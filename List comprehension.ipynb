{
 "cells": [
  {
   "cell_type": "code",
   "execution_count": 3,
   "id": "ff8864bc",
   "metadata": {},
   "outputs": [
    {
     "name": "stdout",
     "output_type": "stream",
     "text": [
      "[12, 34, 35, 25, 16]\n"
     ]
    }
   ],
   "source": [
    "g=[12,34,35,25,16]\n",
    "f=[d for d in g]\n",
    "print(f)"
   ]
  },
  {
   "cell_type": "code",
   "execution_count": 4,
   "id": "2903450d",
   "metadata": {},
   "outputs": [
    {
     "name": "stdout",
     "output_type": "stream",
     "text": [
      "[34, 56, 78, 2, 12]\n"
     ]
    }
   ],
   "source": [
    "t=[23,34,45,56,67,78,2,12,23]\n",
    "r=[u for u in t if u%2==0]\n",
    "print(r)"
   ]
  },
  {
   "cell_type": "code",
   "execution_count": 9,
   "id": "cac7cc4b",
   "metadata": {},
   "outputs": [
    {
     "name": "stdout",
     "output_type": "stream",
     "text": [
      "[2, 8, 14, 20, 26, 32]\n"
     ]
    }
   ],
   "source": [
    "g=[]\n",
    "for i in range(2,34,3):\n",
    "    g.append(i)\n",
    "\n",
    "h=[t for t in g if t%2==0]\n",
    "print(h)"
   ]
  },
  {
   "cell_type": "code",
   "execution_count": 1,
   "id": "608c262d",
   "metadata": {},
   "outputs": [],
   "source": [
    "j=[i for i in range(34) if i%2==0]"
   ]
  },
  {
   "cell_type": "code",
   "execution_count": 2,
   "id": "393eea62",
   "metadata": {},
   "outputs": [
    {
     "data": {
      "text/plain": [
       "[0, 2, 4, 6, 8, 10, 12, 14, 16, 18, 20, 22, 24, 26, 28, 30, 32]"
      ]
     },
     "execution_count": 2,
     "metadata": {},
     "output_type": "execute_result"
    }
   ],
   "source": [
    "j"
   ]
  },
  {
   "cell_type": "code",
   "execution_count": 3,
   "id": "844b011e",
   "metadata": {},
   "outputs": [],
   "source": [
    "i=[u for u in range(20) if u%2!=0]"
   ]
  },
  {
   "cell_type": "code",
   "execution_count": 4,
   "id": "46d37215",
   "metadata": {},
   "outputs": [
    {
     "data": {
      "text/plain": [
       "[1, 3, 5, 7, 9, 11, 13, 15, 17, 19]"
      ]
     },
     "execution_count": 4,
     "metadata": {},
     "output_type": "execute_result"
    }
   ],
   "source": [
    "i"
   ]
  },
  {
   "cell_type": "code",
   "execution_count": 1,
   "id": "6db97eec",
   "metadata": {},
   "outputs": [],
   "source": [
    "u=[ i for i in range(30) if i%2!=0]"
   ]
  },
  {
   "cell_type": "code",
   "execution_count": 2,
   "id": "b5fff7d8",
   "metadata": {},
   "outputs": [
    {
     "data": {
      "text/plain": [
       "[1, 3, 5, 7, 9, 11, 13, 15, 17, 19, 21, 23, 25, 27, 29]"
      ]
     },
     "execution_count": 2,
     "metadata": {},
     "output_type": "execute_result"
    }
   ],
   "source": [
    "u"
   ]
  },
  {
   "cell_type": "code",
   "execution_count": null,
   "id": "916116dc",
   "metadata": {},
   "outputs": [],
   "source": []
  }
 ],
 "metadata": {
  "kernelspec": {
   "display_name": "Python 3",
   "language": "python",
   "name": "python3"
  },
  "language_info": {
   "codemirror_mode": {
    "name": "ipython",
    "version": 3
   },
   "file_extension": ".py",
   "mimetype": "text/x-python",
   "name": "python",
   "nbconvert_exporter": "python",
   "pygments_lexer": "ipython3",
   "version": "3.8.8"
  }
 },
 "nbformat": 4,
 "nbformat_minor": 5
}
