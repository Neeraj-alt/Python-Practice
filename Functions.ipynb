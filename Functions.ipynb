{
 "cells": [
  {
   "cell_type": "code",
   "execution_count": 1,
   "id": "346a16cd",
   "metadata": {},
   "outputs": [],
   "source": [
    "#Functions"
   ]
  },
  {
   "cell_type": "code",
   "execution_count": 2,
   "id": "163d4910",
   "metadata": {},
   "outputs": [],
   "source": [
    "#Defining a function"
   ]
  },
  {
   "cell_type": "code",
   "execution_count": 3,
   "id": "7c49d796",
   "metadata": {},
   "outputs": [],
   "source": [
    "def function():\n",
    "    print('Hello')"
   ]
  },
  {
   "cell_type": "code",
   "execution_count": 4,
   "id": "a431f248",
   "metadata": {},
   "outputs": [
    {
     "name": "stdout",
     "output_type": "stream",
     "text": [
      "Hello\n"
     ]
    }
   ],
   "source": [
    "function()"
   ]
  },
  {
   "cell_type": "code",
   "execution_count": 5,
   "id": "d01832ee",
   "metadata": {},
   "outputs": [],
   "source": [
    "def areaofcircle():\n",
    "    radius=int(input('Enter the value'))\n",
    "    pi=3.14\n",
    "    Area=pi*(radius**2)\n",
    "    print(Area,'is the area of the circle')"
   ]
  },
  {
   "cell_type": "code",
   "execution_count": 6,
   "id": "5c8e7b98",
   "metadata": {},
   "outputs": [
    {
     "name": "stdout",
     "output_type": "stream",
     "text": [
      "Enter the value45\n",
      "6358.5 is the area of the circle\n"
     ]
    }
   ],
   "source": [
    "areaofcircle()"
   ]
  },
  {
   "cell_type": "code",
   "execution_count": 11,
   "id": "0a35231a",
   "metadata": {},
   "outputs": [],
   "source": [
    "def areaofrectangle():\n",
    "    Length=int(input('Enter the length'))\n",
    "    Breadth=int(input('Enter the Breadth'))\n",
    "    Area=Length*Breadth\n",
    "    print(Area,'Area of rectangle')"
   ]
  },
  {
   "cell_type": "code",
   "execution_count": 12,
   "id": "6ae28230",
   "metadata": {},
   "outputs": [
    {
     "name": "stdout",
     "output_type": "stream",
     "text": [
      "Enter the length45\n",
      "Enter the Breadth76\n",
      "3420 Area of rectangle\n"
     ]
    }
   ],
   "source": [
    "areaofrectangle()"
   ]
  },
  {
   "cell_type": "code",
   "execution_count": 13,
   "id": "dc89ce3e",
   "metadata": {},
   "outputs": [
    {
     "name": "stdout",
     "output_type": "stream",
     "text": [
      "Enter the length98\n",
      "Enter the Breadth12345678\n",
      "1209876444 Area of rectangle\n"
     ]
    }
   ],
   "source": [
    "areaofrectangle()"
   ]
  },
  {
   "cell_type": "code",
   "execution_count": 1,
   "id": "f729f63b",
   "metadata": {},
   "outputs": [],
   "source": [
    "#Global variable , will retain the value in the entire Jupyter.\n",
    "#Local variable will be born and die within a function"
   ]
  },
  {
   "cell_type": "code",
   "execution_count": 3,
   "id": "0b964758",
   "metadata": {},
   "outputs": [],
   "source": [
    "def Range():\n",
    "    for i in range(4):\n",
    "        print(i)"
   ]
  },
  {
   "cell_type": "code",
   "execution_count": 6,
   "id": "7a338f6a",
   "metadata": {},
   "outputs": [
    {
     "name": "stdout",
     "output_type": "stream",
     "text": [
      "0\n",
      "1\n",
      "2\n",
      "3\n"
     ]
    }
   ],
   "source": [
    "Range()"
   ]
  },
  {
   "cell_type": "code",
   "execution_count": 29,
   "id": "4d60f51b",
   "metadata": {},
   "outputs": [],
   "source": [
    "def looptest():\n",
    "    i=int(input('Enter the number'))\n",
    "    if i%2==0:\n",
    "        print('The number is even')\n",
    "    else:\n",
    "        print('The number is odd')"
   ]
  },
  {
   "cell_type": "code",
   "execution_count": 30,
   "id": "14699313",
   "metadata": {},
   "outputs": [
    {
     "name": "stdout",
     "output_type": "stream",
     "text": [
      "Enter the number76\n",
      "The number is even\n"
     ]
    }
   ],
   "source": [
    "looptest()"
   ]
  },
  {
   "cell_type": "code",
   "execution_count": 33,
   "id": "e2ff73b0",
   "metadata": {},
   "outputs": [],
   "source": [
    "#Calling function from inside the function"
   ]
  },
  {
   "cell_type": "code",
   "execution_count": 34,
   "id": "c42548c5",
   "metadata": {},
   "outputs": [],
   "source": [
    "def loopcall():\n",
    "    print('trying to call the function')\n",
    "    looptest()"
   ]
  },
  {
   "cell_type": "code",
   "execution_count": 35,
   "id": "b89ae62e",
   "metadata": {},
   "outputs": [
    {
     "name": "stdout",
     "output_type": "stream",
     "text": [
      "trying to call the function\n",
      "Enter the number1987968689\n",
      "The number is odd\n"
     ]
    }
   ],
   "source": [
    "loopcall()"
   ]
  },
  {
   "cell_type": "code",
   "execution_count": 36,
   "id": "1e81375f",
   "metadata": {},
   "outputs": [],
   "source": [
    "#Parametric Functions"
   ]
  },
  {
   "cell_type": "code",
   "execution_count": 37,
   "id": "6590461b",
   "metadata": {},
   "outputs": [],
   "source": [
    "def Parafunc(a,b):\n",
    "    c=a+b\n",
    "    print(c,'is the result of addition')"
   ]
  },
  {
   "cell_type": "code",
   "execution_count": 38,
   "id": "84a53831",
   "metadata": {},
   "outputs": [
    {
     "name": "stdout",
     "output_type": "stream",
     "text": [
      "112 is the result of addition\n"
     ]
    }
   ],
   "source": [
    "Parafunc(45,67)"
   ]
  },
  {
   "cell_type": "code",
   "execution_count": 39,
   "id": "0a895630",
   "metadata": {},
   "outputs": [],
   "source": [
    "def Parafunc2(pi,r,t):\n",
    "    Multi=(pi*r*t)\n",
    "    print(Multi,'is the expected answer')"
   ]
  },
  {
   "cell_type": "code",
   "execution_count": 41,
   "id": "b8e89a84",
   "metadata": {},
   "outputs": [
    {
     "name": "stdout",
     "output_type": "stream",
     "text": [
      "701730 is the expected answer\n"
     ]
    }
   ],
   "source": [
    "Parafunc2(23,45,678)"
   ]
  },
  {
   "cell_type": "code",
   "execution_count": 1,
   "id": "e4723b0e",
   "metadata": {},
   "outputs": [],
   "source": [
    "def parafunc3(a,b,c):\n",
    "    c=a*b*c\n",
    "    print(c)"
   ]
  },
  {
   "cell_type": "code",
   "execution_count": 2,
   "id": "49a5c3e4",
   "metadata": {},
   "outputs": [
    {
     "name": "stdout",
     "output_type": "stream",
     "text": [
      "57960\n"
     ]
    }
   ],
   "source": [
    "parafunc3(23,45,56)"
   ]
  },
  {
   "cell_type": "code",
   "execution_count": null,
   "id": "42423d95",
   "metadata": {},
   "outputs": [],
   "source": [
    "#Defining function using Arguments"
   ]
  },
  {
   "cell_type": "code",
   "execution_count": 3,
   "id": "b1236120",
   "metadata": {},
   "outputs": [],
   "source": [
    "def arg(*args):\n",
    "    return sum(args)"
   ]
  },
  {
   "cell_type": "code",
   "execution_count": 4,
   "id": "ba414080",
   "metadata": {},
   "outputs": [
    {
     "data": {
      "text/plain": [
       "57"
      ]
     },
     "execution_count": 4,
     "metadata": {},
     "output_type": "execute_result"
    }
   ],
   "source": [
    "arg(23,34)"
   ]
  },
  {
   "cell_type": "code",
   "execution_count": 7,
   "id": "b0f5650a",
   "metadata": {},
   "outputs": [],
   "source": [
    "def arg2(*args):\n",
    "    return max(args)"
   ]
  },
  {
   "cell_type": "code",
   "execution_count": 8,
   "id": "83bdb242",
   "metadata": {},
   "outputs": [
    {
     "data": {
      "text/plain": [
       "3455555"
      ]
     },
     "execution_count": 8,
     "metadata": {},
     "output_type": "execute_result"
    }
   ],
   "source": [
    "arg2(23,34,45,67,3455555,45)"
   ]
  },
  {
   "cell_type": "code",
   "execution_count": 9,
   "id": "5597db8d",
   "metadata": {},
   "outputs": [],
   "source": [
    "#point to note, whenever a Function is used, return statement can be used, whereas for a for loop break function can be used."
   ]
  },
  {
   "cell_type": "code",
   "execution_count": 27,
   "id": "6639c194",
   "metadata": {},
   "outputs": [],
   "source": [
    "#with print end=''\n",
    "def test():\n",
    "    for i in range(10):\n",
    "        if i==5:\n",
    "            return\n",
    "        print(i,end=\"\")"
   ]
  },
  {
   "cell_type": "code",
   "execution_count": 28,
   "id": "ba2c542a",
   "metadata": {},
   "outputs": [
    {
     "name": "stdout",
     "output_type": "stream",
     "text": [
      "01234"
     ]
    }
   ],
   "source": [
    "test()"
   ]
  },
  {
   "cell_type": "code",
   "execution_count": 33,
   "id": "60ee1548",
   "metadata": {},
   "outputs": [],
   "source": [
    "#without print end=\"\"\n",
    "def test():\n",
    "    for i in range(20):\n",
    "        if i==5:\n",
    "            return\n",
    "        print(i)\n",
    "            "
   ]
  },
  {
   "cell_type": "code",
   "execution_count": 34,
   "id": "0604b90e",
   "metadata": {},
   "outputs": [
    {
     "name": "stdout",
     "output_type": "stream",
     "text": [
      "0\n",
      "1\n",
      "2\n",
      "3\n",
      "4\n"
     ]
    }
   ],
   "source": [
    "test()"
   ]
  },
  {
   "cell_type": "code",
   "execution_count": 59,
   "id": "c46b421e",
   "metadata": {},
   "outputs": [],
   "source": [
    "def tst(arg1,arg2):\n",
    "    c=arg1+arg2\n",
    "    return c"
   ]
  },
  {
   "cell_type": "code",
   "execution_count": 60,
   "id": "68ed5e0d",
   "metadata": {},
   "outputs": [
    {
     "data": {
      "text/plain": [
       "90"
      ]
     },
     "execution_count": 60,
     "metadata": {},
     "output_type": "execute_result"
    }
   ],
   "source": [
    "tst(34,56)"
   ]
  },
  {
   "cell_type": "code",
   "execution_count": 61,
   "id": "01fe5870",
   "metadata": {},
   "outputs": [
    {
     "name": "stdout",
     "output_type": "stream",
     "text": [
      "total 90\n"
     ]
    }
   ],
   "source": [
    "rec=tst(34,56)\n",
    "print('total',rec)"
   ]
  },
  {
   "cell_type": "code",
   "execution_count": 62,
   "id": "c7e5ef83",
   "metadata": {},
   "outputs": [],
   "source": [
    "#Using anonymous function"
   ]
  },
  {
   "cell_type": "code",
   "execution_count": 65,
   "id": "314fdbbb",
   "metadata": {},
   "outputs": [
    {
     "data": {
      "text/plain": [
       "12"
      ]
     },
     "execution_count": 65,
     "metadata": {},
     "output_type": "execute_result"
    }
   ],
   "source": [
    "first=lambda x:x*2\n",
    "first(6)"
   ]
  },
  {
   "cell_type": "code",
   "execution_count": 67,
   "id": "142617ee",
   "metadata": {},
   "outputs": [
    {
     "data": {
      "text/plain": [
       "35190"
      ]
     },
     "execution_count": 67,
     "metadata": {},
     "output_type": "execute_result"
    }
   ],
   "source": [
    "second=lambda x,y,z:x*y*z\n",
    "second(23,34,45)"
   ]
  },
  {
   "cell_type": "code",
   "execution_count": 68,
   "id": "93b35e11",
   "metadata": {},
   "outputs": [
    {
     "data": {
      "text/plain": [
       "8010"
      ]
     },
     "execution_count": 68,
     "metadata": {},
     "output_type": "execute_result"
    }
   ],
   "source": [
    "third=lambda w,r,a:(w+r)*a\n",
    "third(34,56,89)"
   ]
  },
  {
   "cell_type": "code",
   "execution_count": 69,
   "id": "8cfdaafa",
   "metadata": {},
   "outputs": [],
   "source": [
    "#Using anonymous function using map"
   ]
  },
  {
   "cell_type": "code",
   "execution_count": 72,
   "id": "91e496db",
   "metadata": {},
   "outputs": [
    {
     "data": {
      "text/plain": [
       "[24, 668, 112, 134]"
      ]
     },
     "execution_count": 72,
     "metadata": {},
     "output_type": "execute_result"
    }
   ],
   "source": [
    "t=[12,334,56,67]\n",
    "list(map(lambda x:x*2,t))"
   ]
  },
  {
   "cell_type": "code",
   "execution_count": 74,
   "id": "71cb1104",
   "metadata": {},
   "outputs": [
    {
     "data": {
      "text/plain": [
       "23.4444"
      ]
     },
     "execution_count": 74,
     "metadata": {},
     "output_type": "execute_result"
    }
   ],
   "source": [
    "round(23.444444444,4)"
   ]
  },
  {
   "cell_type": "code",
   "execution_count": 75,
   "id": "5d57e829",
   "metadata": {},
   "outputs": [
    {
     "ename": "ZeroDivisionError",
     "evalue": "division by zero",
     "output_type": "error",
     "traceback": [
      "\u001b[1;31m---------------------------------------------------------------------------\u001b[0m",
      "\u001b[1;31mZeroDivisionError\u001b[0m                         Traceback (most recent call last)",
      "\u001b[1;32m<ipython-input-75-eb4a646c5240>\u001b[0m in \u001b[0;36m<module>\u001b[1;34m\u001b[0m\n\u001b[1;32m----> 1\u001b[1;33m \u001b[1;36m57\u001b[0m\u001b[1;33m/\u001b[0m\u001b[1;36m0\u001b[0m\u001b[1;33m\u001b[0m\u001b[1;33m\u001b[0m\u001b[0m\n\u001b[0m",
      "\u001b[1;31mZeroDivisionError\u001b[0m: division by zero"
     ]
    }
   ],
   "source": [
    "#Error handling\n",
    "57/0"
   ]
  },
  {
   "cell_type": "code",
   "execution_count": 78,
   "id": "7304df31",
   "metadata": {},
   "outputs": [
    {
     "name": "stdout",
     "output_type": "stream",
     "text": [
      "Handling the error division by zero\n"
     ]
    }
   ],
   "source": [
    "try:\n",
    "    57/0\n",
    "except ZeroDivisionError as err:\n",
    "        print('Handling the error',err)"
   ]
  },
  {
   "cell_type": "code",
   "execution_count": 79,
   "id": "c5a8cc87",
   "metadata": {},
   "outputs": [],
   "source": [
    "def div():\n",
    "    a=23\n",
    "    b=0\n",
    "    c=a/b\n",
    "    print(c)"
   ]
  },
  {
   "cell_type": "code",
   "execution_count": 83,
   "id": "d912fa99",
   "metadata": {},
   "outputs": [
    {
     "name": "stdout",
     "output_type": "stream",
     "text": [
      "Handling the exception division by zero\n"
     ]
    }
   ],
   "source": [
    "try:\n",
    "    div()\n",
    "except ZeroDivisionError as err:\n",
    "    print('Handling the exception',err)"
   ]
  },
  {
   "cell_type": "code",
   "execution_count": 84,
   "id": "6072ac7c",
   "metadata": {},
   "outputs": [],
   "source": [
    "def div1():\n",
    "    d=23\n",
    "    t=0\n",
    "    c=d/t\n",
    "    print(c)"
   ]
  },
  {
   "cell_type": "code",
   "execution_count": 86,
   "id": "4b484b60",
   "metadata": {},
   "outputs": [
    {
     "name": "stdout",
     "output_type": "stream",
     "text": [
      "Handling error division by zero\n"
     ]
    }
   ],
   "source": [
    "try:\n",
    "    div1()\n",
    "except ZeroDivisionError as err:\n",
    "    print('Handling error',err)"
   ]
  },
  {
   "cell_type": "code",
   "execution_count": 90,
   "id": "214a5fc8",
   "metadata": {},
   "outputs": [],
   "source": [
    "def high(x,y):\n",
    "    try:\n",
    "        result=x/y\n",
    "    except ZeroDivisionError as err:\n",
    "        print('Handling the exception',err)\n",
    "    else:\n",
    "        print('The value',result)\n",
    "    finally:\n",
    "        print('It is executed')"
   ]
  },
  {
   "cell_type": "code",
   "execution_count": 92,
   "id": "8b228288",
   "metadata": {},
   "outputs": [
    {
     "name": "stdout",
     "output_type": "stream",
     "text": [
      "Handling the exception division by zero\n",
      "It is executed\n"
     ]
    }
   ],
   "source": [
    "high(34,0)"
   ]
  },
  {
   "cell_type": "code",
   "execution_count": 93,
   "id": "8a90bdfd",
   "metadata": {},
   "outputs": [],
   "source": [
    "#C style string formatting"
   ]
  },
  {
   "cell_type": "code",
   "execution_count": 96,
   "id": "0275fabc",
   "metadata": {},
   "outputs": [
    {
     "name": "stdout",
     "output_type": "stream",
     "text": [
      "Hello Neeraj !\n"
     ]
    }
   ],
   "source": [
    "name='Neeraj'\n",
    "print('Hello',name,'!')"
   ]
  },
  {
   "cell_type": "code",
   "execution_count": 98,
   "id": "c6f469df",
   "metadata": {},
   "outputs": [
    {
     "ename": "SyntaxError",
     "evalue": "invalid syntax (<ipython-input-98-882549a371c1>, line 2)",
     "output_type": "error",
     "traceback": [
      "\u001b[1;36m  File \u001b[1;32m\"<ipython-input-98-882549a371c1>\"\u001b[1;36m, line \u001b[1;32m2\u001b[0m\n\u001b[1;33m    print('Hello',\"%s !\",%s name)\u001b[0m\n\u001b[1;37m                         ^\u001b[0m\n\u001b[1;31mSyntaxError\u001b[0m\u001b[1;31m:\u001b[0m invalid syntax\n"
     ]
    }
   ],
   "source": [
    "name='Neerajazz'\n",
    "print('Hello',\"%s !\",% name)"
   ]
  },
  {
   "cell_type": "code",
   "execution_count": 100,
   "id": "36aab077",
   "metadata": {},
   "outputs": [
    {
     "name": "stdout",
     "output_type": "stream",
     "text": [
      "The name of the person is Jelly and his age is 34\n"
     ]
    }
   ],
   "source": [
    "name='Jelly'\n",
    "Age=34\n",
    "print(\"The name of the person is {} and his age is {}\".format(name,Age))"
   ]
  },
  {
   "cell_type": "code",
   "execution_count": 105,
   "id": "63c21c65",
   "metadata": {},
   "outputs": [
    {
     "name": "stdout",
     "output_type": "stream",
     "text": [
      "The model of the bike is HImalayan and its cc is 400\n"
     ]
    }
   ],
   "source": [
    "Model='HImalayan'\n",
    "Engine=400\n",
    "print(\"The model of the bike is {} and its cc is {}\".format(Model,Engine))"
   ]
  },
  {
   "cell_type": "code",
   "execution_count": null,
   "id": "6d2cc81b",
   "metadata": {},
   "outputs": [],
   "source": []
  }
 ],
 "metadata": {
  "kernelspec": {
   "display_name": "Python 3",
   "language": "python",
   "name": "python3"
  },
  "language_info": {
   "codemirror_mode": {
    "name": "ipython",
    "version": 3
   },
   "file_extension": ".py",
   "mimetype": "text/x-python",
   "name": "python",
   "nbconvert_exporter": "python",
   "pygments_lexer": "ipython3",
   "version": "3.8.8"
  }
 },
 "nbformat": 4,
 "nbformat_minor": 5
}
