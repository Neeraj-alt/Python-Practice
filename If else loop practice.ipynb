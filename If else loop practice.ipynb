{
 "cells": [
  {
   "cell_type": "code",
   "execution_count": 1,
   "id": "b6d0906d",
   "metadata": {},
   "outputs": [
    {
     "name": "stdout",
     "output_type": "stream",
     "text": [
      "Low\n"
     ]
    }
   ],
   "source": [
    "marks=45\n",
    "if marks>55:\n",
    "    print ('Average')\n",
    "else:\n",
    "    print ('Low')"
   ]
  },
  {
   "cell_type": "code",
   "execution_count": 2,
   "id": "f85040bd",
   "metadata": {},
   "outputs": [
    {
     "name": "stdout",
     "output_type": "stream",
     "text": [
      "The number is even\n"
     ]
    }
   ],
   "source": [
    "g=12\n",
    "h=2\n",
    "if g%h==0:\n",
    "    print('The number is even')\n",
    "else:\n",
    "    print('The number is not odd')"
   ]
  },
  {
   "cell_type": "code",
   "execution_count": 4,
   "id": "bf0281a1",
   "metadata": {},
   "outputs": [
    {
     "name": "stdout",
     "output_type": "stream",
     "text": [
      "Enter the value57\n",
      "not even\n"
     ]
    }
   ],
   "source": [
    "t=int(input('Enter the value'))\n",
    "if t%2==0:\n",
    "    print('Even')\n",
    "else:\n",
    "    print('not even')"
   ]
  },
  {
   "cell_type": "code",
   "execution_count": 1,
   "id": "18aa984e",
   "metadata": {},
   "outputs": [
    {
     "name": "stdout",
     "output_type": "stream",
     "text": [
      "Enter the value34\n",
      "The no. is even\n"
     ]
    }
   ],
   "source": [
    "y=int(input('Enter the value'))\n",
    "if y%2==0:\n",
    "    print('The no. is even')\n",
    "else:\n",
    "    print('The no. is odd')"
   ]
  },
  {
   "cell_type": "code",
   "execution_count": 2,
   "id": "5090b267",
   "metadata": {},
   "outputs": [
    {
     "data": {
      "text/plain": [
       "6"
      ]
     },
     "execution_count": 2,
     "metadata": {},
     "output_type": "execute_result"
    }
   ],
   "source": [
    "q=[12,23,12,34,45,56]\n",
    "len(q)"
   ]
  },
  {
   "cell_type": "code",
   "execution_count": 3,
   "id": "2c69903e",
   "metadata": {},
   "outputs": [],
   "source": [
    "q.insert(3,67)"
   ]
  },
  {
   "cell_type": "code",
   "execution_count": 4,
   "id": "09af0b29",
   "metadata": {},
   "outputs": [
    {
     "data": {
      "text/plain": [
       "[12, 23, 12, 67, 34, 45, 56]"
      ]
     },
     "execution_count": 4,
     "metadata": {},
     "output_type": "execute_result"
    }
   ],
   "source": [
    "q"
   ]
  },
  {
   "cell_type": "code",
   "execution_count": 6,
   "id": "72900859",
   "metadata": {},
   "outputs": [
    {
     "data": {
      "text/plain": [
       "12"
      ]
     },
     "execution_count": 6,
     "metadata": {},
     "output_type": "execute_result"
    }
   ],
   "source": [
    "q[2]"
   ]
  },
  {
   "cell_type": "code",
   "execution_count": 7,
   "id": "215e76b4",
   "metadata": {},
   "outputs": [
    {
     "ename": "NameError",
     "evalue": "name 'T' is not defined",
     "output_type": "error",
     "traceback": [
      "\u001b[1;31m---------------------------------------------------------------------------\u001b[0m",
      "\u001b[1;31mNameError\u001b[0m                                 Traceback (most recent call last)",
      "\u001b[1;32m<ipython-input-7-29704cb91324>\u001b[0m in \u001b[0;36m<module>\u001b[1;34m\u001b[0m\n\u001b[1;32m----> 1\u001b[1;33m \u001b[0mT\u001b[0m\u001b[1;33m\u001b[0m\u001b[1;33m\u001b[0m\u001b[0m\n\u001b[0m",
      "\u001b[1;31mNameError\u001b[0m: name 'T' is not defined"
     ]
    }
   ],
   "source": [
    "T"
   ]
  },
  {
   "cell_type": "code",
   "execution_count": 8,
   "id": "9f012bb1",
   "metadata": {},
   "outputs": [
    {
     "name": "stdout",
     "output_type": "stream",
     "text": [
      "96\n",
      "184\n",
      "272\n",
      "360\n",
      "448\n",
      "536\n"
     ]
    }
   ],
   "source": [
    "u=[12,23,34,45,56,67]\n",
    "for n in u:\n",
    "    mul=n*8\n",
    "    print(mul)"
   ]
  },
  {
   "cell_type": "code",
   "execution_count": 13,
   "id": "08771826",
   "metadata": {},
   "outputs": [
    {
     "name": "stdout",
     "output_type": "stream",
     "text": [
      "I Like Hat\n",
      "I Like Tpy\n",
      "I Like Rat\n"
     ]
    }
   ],
   "source": [
    "je=['Hat','Tpy','Rat']\n",
    "for i in range(len(je)):\n",
    "    print('I Like',je[i])\n",
    "    "
   ]
  },
  {
   "cell_type": "code",
   "execution_count": 17,
   "id": "ce24d735",
   "metadata": {},
   "outputs": [
    {
     "name": "stdout",
     "output_type": "stream",
     "text": [
      "t\n"
     ]
    }
   ],
   "source": [
    "#break statement\n",
    "for i in 'Positivity':\n",
    "    if i=='t':\n",
    "        break\n",
    "print(i)"
   ]
  },
  {
   "cell_type": "code",
   "execution_count": 7,
   "id": "7eb9b173",
   "metadata": {},
   "outputs": [
    {
     "name": "stdout",
     "output_type": "stream",
     "text": [
      "s\n",
      "t\n",
      "r\n",
      "i\n",
      "g\n",
      "e\n"
     ]
    }
   ],
   "source": [
    "for i in 'stringexample':\n",
    "    if i=='n':\n",
    "        continue\n",
    "    else:\n",
    "        if i=='x':\n",
    "            break\n",
    "    print(i)"
   ]
  },
  {
   "cell_type": "code",
   "execution_count": null,
   "id": "41f6c5b2",
   "metadata": {},
   "outputs": [],
   "source": []
  }
 ],
 "metadata": {
  "kernelspec": {
   "display_name": "Python 3",
   "language": "python",
   "name": "python3"
  },
  "language_info": {
   "codemirror_mode": {
    "name": "ipython",
    "version": 3
   },
   "file_extension": ".py",
   "mimetype": "text/x-python",
   "name": "python",
   "nbconvert_exporter": "python",
   "pygments_lexer": "ipython3",
   "version": "3.8.8"
  }
 },
 "nbformat": 4,
 "nbformat_minor": 5
}
