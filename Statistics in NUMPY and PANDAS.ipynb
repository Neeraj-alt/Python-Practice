{
 "cells": [
  {
   "cell_type": "code",
   "execution_count": 1,
   "id": "790e1115",
   "metadata": {},
   "outputs": [],
   "source": [
    "import numpy as np"
   ]
  },
  {
   "cell_type": "code",
   "execution_count": 2,
   "id": "a76dd21e",
   "metadata": {},
   "outputs": [],
   "source": [
    "j=np.array([12,13,12,34,45,56])"
   ]
  },
  {
   "cell_type": "code",
   "execution_count": 3,
   "id": "55023749",
   "metadata": {},
   "outputs": [],
   "source": [
    "u=np.mean(j)"
   ]
  },
  {
   "cell_type": "code",
   "execution_count": 4,
   "id": "1fec7050",
   "metadata": {},
   "outputs": [
    {
     "data": {
      "text/plain": [
       "29"
      ]
     },
     "execution_count": 4,
     "metadata": {},
     "output_type": "execute_result"
    }
   ],
   "source": [
    "round(u)"
   ]
  },
  {
   "cell_type": "code",
   "execution_count": 5,
   "id": "b59208df",
   "metadata": {},
   "outputs": [
    {
     "data": {
      "text/plain": [
       "23.5"
      ]
     },
     "execution_count": 5,
     "metadata": {},
     "output_type": "execute_result"
    }
   ],
   "source": [
    "np.median(j)"
   ]
  },
  {
   "cell_type": "code",
   "execution_count": 14,
   "id": "a88f7f15",
   "metadata": {},
   "outputs": [
    {
     "data": {
      "text/plain": [
       "42.25"
      ]
     },
     "execution_count": 14,
     "metadata": {},
     "output_type": "execute_result"
    }
   ],
   "source": [
    "np.percentile(j,75)"
   ]
  },
  {
   "cell_type": "code",
   "execution_count": 6,
   "id": "7f0e301f",
   "metadata": {},
   "outputs": [],
   "source": [
    "import pandas as pd"
   ]
  },
  {
   "cell_type": "code",
   "execution_count": 7,
   "id": "784f8886",
   "metadata": {},
   "outputs": [
    {
     "data": {
      "text/html": [
       "<div>\n",
       "<style scoped>\n",
       "    .dataframe tbody tr th:only-of-type {\n",
       "        vertical-align: middle;\n",
       "    }\n",
       "\n",
       "    .dataframe tbody tr th {\n",
       "        vertical-align: top;\n",
       "    }\n",
       "\n",
       "    .dataframe thead th {\n",
       "        text-align: right;\n",
       "    }\n",
       "</style>\n",
       "<table border=\"1\" class=\"dataframe\">\n",
       "  <thead>\n",
       "    <tr style=\"text-align: right;\">\n",
       "      <th></th>\n",
       "      <th>0</th>\n",
       "    </tr>\n",
       "  </thead>\n",
       "  <tbody>\n",
       "    <tr>\n",
       "      <th>0</th>\n",
       "      <td>12</td>\n",
       "    </tr>\n",
       "    <tr>\n",
       "      <th>1</th>\n",
       "      <td>23</td>\n",
       "    </tr>\n",
       "    <tr>\n",
       "      <th>2</th>\n",
       "      <td>12</td>\n",
       "    </tr>\n",
       "    <tr>\n",
       "      <th>3</th>\n",
       "      <td>34</td>\n",
       "    </tr>\n",
       "    <tr>\n",
       "      <th>4</th>\n",
       "      <td>45</td>\n",
       "    </tr>\n",
       "    <tr>\n",
       "      <th>5</th>\n",
       "      <td>56</td>\n",
       "    </tr>\n",
       "  </tbody>\n",
       "</table>\n",
       "</div>"
      ],
      "text/plain": [
       "    0\n",
       "0  12\n",
       "1  23\n",
       "2  12\n",
       "3  34\n",
       "4  45\n",
       "5  56"
      ]
     },
     "execution_count": 7,
     "metadata": {},
     "output_type": "execute_result"
    }
   ],
   "source": [
    "k=[12,23,12,34,45,56]\n",
    "f=pd.DataFrame(data=k)\n",
    "f"
   ]
  },
  {
   "cell_type": "code",
   "execution_count": 8,
   "id": "5decc78f",
   "metadata": {},
   "outputs": [
    {
     "data": {
      "text/plain": [
       "0    30.333333\n",
       "dtype: float64"
      ]
     },
     "execution_count": 8,
     "metadata": {},
     "output_type": "execute_result"
    }
   ],
   "source": [
    "f.mean()"
   ]
  },
  {
   "cell_type": "code",
   "execution_count": 9,
   "id": "bc0779e5",
   "metadata": {},
   "outputs": [
    {
     "data": {
      "text/plain": [
       "0    28.5\n",
       "dtype: float64"
      ]
     },
     "execution_count": 9,
     "metadata": {},
     "output_type": "execute_result"
    }
   ],
   "source": [
    "f.median()"
   ]
  },
  {
   "cell_type": "code",
   "execution_count": 10,
   "id": "24dbff9f",
   "metadata": {},
   "outputs": [
    {
     "data": {
      "text/plain": [
       "0    322.666667\n",
       "dtype: float64"
      ]
     },
     "execution_count": 10,
     "metadata": {},
     "output_type": "execute_result"
    }
   ],
   "source": [
    "f.var()"
   ]
  },
  {
   "cell_type": "code",
   "execution_count": 11,
   "id": "ae4df6a0",
   "metadata": {},
   "outputs": [
    {
     "data": {
      "text/plain": [
       "0    17.962925\n",
       "dtype: float64"
      ]
     },
     "execution_count": 11,
     "metadata": {},
     "output_type": "execute_result"
    }
   ],
   "source": [
    "f.std()"
   ]
  },
  {
   "cell_type": "code",
   "execution_count": 12,
   "id": "e137f548",
   "metadata": {},
   "outputs": [
    {
     "data": {
      "text/plain": [
       "0    17.96\n",
       "dtype: float64"
      ]
     },
     "execution_count": 12,
     "metadata": {},
     "output_type": "execute_result"
    }
   ],
   "source": [
    "round(f.std(),2)"
   ]
  },
  {
   "cell_type": "code",
   "execution_count": 16,
   "id": "63dd4b6f",
   "metadata": {},
   "outputs": [
    {
     "data": {
      "text/html": [
       "<div>\n",
       "<style scoped>\n",
       "    .dataframe tbody tr th:only-of-type {\n",
       "        vertical-align: middle;\n",
       "    }\n",
       "\n",
       "    .dataframe tbody tr th {\n",
       "        vertical-align: top;\n",
       "    }\n",
       "\n",
       "    .dataframe thead th {\n",
       "        text-align: right;\n",
       "    }\n",
       "</style>\n",
       "<table border=\"1\" class=\"dataframe\">\n",
       "  <thead>\n",
       "    <tr style=\"text-align: right;\">\n",
       "      <th></th>\n",
       "      <th>0</th>\n",
       "    </tr>\n",
       "  </thead>\n",
       "  <tbody>\n",
       "    <tr>\n",
       "      <th>0</th>\n",
       "      <td>12</td>\n",
       "    </tr>\n",
       "  </tbody>\n",
       "</table>\n",
       "</div>"
      ],
      "text/plain": [
       "    0\n",
       "0  12"
      ]
     },
     "execution_count": 16,
     "metadata": {},
     "output_type": "execute_result"
    }
   ],
   "source": [
    "f.mode()"
   ]
  },
  {
   "cell_type": "code",
   "execution_count": 17,
   "id": "ef617b6d",
   "metadata": {},
   "outputs": [],
   "source": [
    "d=pd.read_csv('president_height.csv')"
   ]
  },
  {
   "cell_type": "code",
   "execution_count": 22,
   "id": "3a7b4a8f",
   "metadata": {},
   "outputs": [
    {
     "data": {
      "text/plain": [
       "order      22.476190\n",
       "height    179.738095\n",
       "dtype: float64"
      ]
     },
     "execution_count": 22,
     "metadata": {},
     "output_type": "execute_result"
    }
   ],
   "source": [
    "d.mean()"
   ]
  },
  {
   "cell_type": "code",
   "execution_count": 25,
   "id": "5a08fe0d",
   "metadata": {},
   "outputs": [],
   "source": [
    "e=d['height']"
   ]
  },
  {
   "cell_type": "code",
   "execution_count": 27,
   "id": "18b1cc3e",
   "metadata": {},
   "outputs": [
    {
     "data": {
      "text/plain": [
       "179.73809523809524"
      ]
     },
     "execution_count": 27,
     "metadata": {},
     "output_type": "execute_result"
    }
   ],
   "source": [
    "e.mean()"
   ]
  },
  {
   "cell_type": "code",
   "execution_count": 28,
   "id": "6a53675f",
   "metadata": {},
   "outputs": [
    {
     "data": {
      "text/plain": [
       "182.0"
      ]
     },
     "execution_count": 28,
     "metadata": {},
     "output_type": "execute_result"
    }
   ],
   "source": [
    "e.median()"
   ]
  },
  {
   "cell_type": "code",
   "execution_count": 29,
   "id": "b7230c7a",
   "metadata": {},
   "outputs": [
    {
     "data": {
      "text/plain": [
       "183.0"
      ]
     },
     "execution_count": 29,
     "metadata": {},
     "output_type": "execute_result"
    }
   ],
   "source": [
    "np.percentile(e,75)"
   ]
  },
  {
   "cell_type": "code",
   "execution_count": 30,
   "id": "49f19a25",
   "metadata": {},
   "outputs": [],
   "source": [
    "import matplotlib.pyplot as plt\n",
    "import seaborn as sns"
   ]
  },
  {
   "cell_type": "code",
   "execution_count": null,
   "id": "e6a2b3f7",
   "metadata": {},
   "outputs": [],
   "source": [
    "plt.histplot()"
   ]
  }
 ],
 "metadata": {
  "kernelspec": {
   "display_name": "Python 3",
   "language": "python",
   "name": "python3"
  },
  "language_info": {
   "codemirror_mode": {
    "name": "ipython",
    "version": 3
   },
   "file_extension": ".py",
   "mimetype": "text/x-python",
   "name": "python",
   "nbconvert_exporter": "python",
   "pygments_lexer": "ipython3",
   "version": "3.8.8"
  }
 },
 "nbformat": 4,
 "nbformat_minor": 5
}
