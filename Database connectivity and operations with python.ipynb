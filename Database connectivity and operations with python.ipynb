{
 "cells": [
  {
   "cell_type": "code",
   "execution_count": 1,
   "id": "f02b78ce",
   "metadata": {},
   "outputs": [],
   "source": [
    "import sqlite3"
   ]
  },
  {
   "cell_type": "code",
   "execution_count": 2,
   "id": "48a2a689",
   "metadata": {},
   "outputs": [],
   "source": [
    "db=sqlite3.connect('my_database1.db')"
   ]
  },
  {
   "cell_type": "code",
   "execution_count": 3,
   "id": "d3f6a9ad",
   "metadata": {},
   "outputs": [
    {
     "data": {
      "text/plain": [
       "<sqlite3.Cursor at 0x2bbd9139ea0>"
      ]
     },
     "execution_count": 3,
     "metadata": {},
     "output_type": "execute_result"
    }
   ],
   "source": [
    "db.execute('drop table if exists grades1')"
   ]
  },
  {
   "cell_type": "code",
   "execution_count": 4,
   "id": "0bb80ccf",
   "metadata": {},
   "outputs": [
    {
     "data": {
      "text/plain": [
       "<sqlite3.Cursor at 0x2bbd9139f80>"
      ]
     },
     "execution_count": 4,
     "metadata": {},
     "output_type": "execute_result"
    }
   ],
   "source": [
    "db.execute('create table grades1(id int,name text,score int)')"
   ]
  },
  {
   "cell_type": "code",
   "execution_count": 7,
   "id": "49096658",
   "metadata": {},
   "outputs": [
    {
     "data": {
      "text/plain": [
       "<sqlite3.Cursor at 0x2bbd91cf260>"
      ]
     },
     "execution_count": 7,
     "metadata": {},
     "output_type": "execute_result"
    }
   ],
   "source": [
    "db.execute(\"insert into grades1(id , name, score) values(12,'Neeraj',1234)\")"
   ]
  },
  {
   "cell_type": "code",
   "execution_count": 8,
   "id": "abb1bf64",
   "metadata": {},
   "outputs": [
    {
     "data": {
      "text/plain": [
       "<sqlite3.Cursor at 0x2bbd91cf420>"
      ]
     },
     "execution_count": 8,
     "metadata": {},
     "output_type": "execute_result"
    }
   ],
   "source": [
    "db.execute(\"insert into grades1(id,name,score) values(13,'Sara',1435)\")"
   ]
  },
  {
   "cell_type": "code",
   "execution_count": 9,
   "id": "975890af",
   "metadata": {},
   "outputs": [],
   "source": [
    "db.commit()"
   ]
  },
  {
   "cell_type": "code",
   "execution_count": 11,
   "id": "f5b1c1a1",
   "metadata": {},
   "outputs": [
    {
     "name": "stdout",
     "output_type": "stream",
     "text": [
      "(12, 'Neeraj', 1234)\n",
      "(13, 'Sara', 1435)\n"
     ]
    }
   ],
   "source": [
    "result=db.execute('select * from grades1 order by id')\n",
    "for row in result:\n",
    "    print(row)"
   ]
  },
  {
   "cell_type": "code",
   "execution_count": 14,
   "id": "23caaafa",
   "metadata": {},
   "outputs": [
    {
     "name": "stdout",
     "output_type": "stream",
     "text": [
      "(12, 'Neeraj', 1234)\n",
      "(13, 'Sara', 1435)\n"
     ]
    }
   ],
   "source": [
    "result2=db.execute('select * from grades1 order by name')\n",
    "for row in result2:\n",
    "    print(row)"
   ]
  },
  {
   "cell_type": "code",
   "execution_count": 15,
   "id": "2fa8180d",
   "metadata": {},
   "outputs": [
    {
     "name": "stdout",
     "output_type": "stream",
     "text": [
      "(12, 'Neeraj', 1234)\n"
     ]
    }
   ],
   "source": [
    "result4=db.execute('select * from grades1 where score <1350')\n",
    "for row in result4:\n",
    "    print(row)"
   ]
  },
  {
   "cell_type": "code",
   "execution_count": 16,
   "id": "2999aad1",
   "metadata": {},
   "outputs": [
    {
     "name": "stdout",
     "output_type": "stream",
     "text": [
      "('Sara', 1435)\n",
      "('Neeraj', 1234)\n"
     ]
    }
   ],
   "source": [
    "result5=db.execute('select name,score from grades1 order by score desc')\n",
    "for i in result5:\n",
    "    print(i)"
   ]
  },
  {
   "cell_type": "code",
   "execution_count": null,
   "id": "b0a0fbd0",
   "metadata": {},
   "outputs": [],
   "source": []
  }
 ],
 "metadata": {
  "kernelspec": {
   "display_name": "Python 3",
   "language": "python",
   "name": "python3"
  },
  "language_info": {
   "codemirror_mode": {
    "name": "ipython",
    "version": 3
   },
   "file_extension": ".py",
   "mimetype": "text/x-python",
   "name": "python",
   "nbconvert_exporter": "python",
   "pygments_lexer": "ipython3",
   "version": "3.8.8"
  }
 },
 "nbformat": 4,
 "nbformat_minor": 5
}
