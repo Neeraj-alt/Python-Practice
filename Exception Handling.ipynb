{
 "cells": [
  {
   "cell_type": "code",
   "execution_count": 11,
   "id": "390e71cc",
   "metadata": {},
   "outputs": [
    {
     "name": "stdout",
     "output_type": "stream",
     "text": [
      "Handling exception division by zero\n"
     ]
    }
   ],
   "source": [
    "try:\n",
    "    45/0\n",
    "except ZeroDivisionError as err:\n",
    "    print(\"Handling exception\",err)"
   ]
  },
  {
   "cell_type": "code",
   "execution_count": 12,
   "id": "5f9a4c03",
   "metadata": {},
   "outputs": [
    {
     "name": "stdout",
     "output_type": "stream",
     "text": [
      "Handling exception name 'm' is not defined\n"
     ]
    }
   ],
   "source": [
    "try:\n",
    "    3+m*2\n",
    "except NameError as err:\n",
    "    print('Handling exception',err)"
   ]
  },
  {
   "cell_type": "code",
   "execution_count": 13,
   "id": "65594c03",
   "metadata": {},
   "outputs": [],
   "source": [
    "def test():\n",
    "    a=12\n",
    "    b=0\n",
    "    c=a/b\n",
    "    print(\"The result\",c)"
   ]
  },
  {
   "cell_type": "code",
   "execution_count": 14,
   "id": "fb352235",
   "metadata": {},
   "outputs": [
    {
     "name": "stdout",
     "output_type": "stream",
     "text": [
      "Handling exception division by zero\n"
     ]
    }
   ],
   "source": [
    "try:\n",
    "    test()\n",
    "except ZeroDivisionError as err:\n",
    "    print(\"Handling exception\",err)"
   ]
  },
  {
   "cell_type": "code",
   "execution_count": 15,
   "id": "67b964a8",
   "metadata": {},
   "outputs": [],
   "source": [
    "def divide(a,b):\n",
    "    try:\n",
    "        c=a/b\n",
    "    except ZeroDivisionError:\n",
    "        print('Handling exception')\n",
    "    else:\n",
    "        print(c)\n",
    "        "
   ]
  },
  {
   "cell_type": "code",
   "execution_count": 16,
   "id": "7e4b947a",
   "metadata": {},
   "outputs": [
    {
     "name": "stdout",
     "output_type": "stream",
     "text": [
      "Handling exception\n"
     ]
    }
   ],
   "source": [
    "divide(12,0)"
   ]
  },
  {
   "cell_type": "code",
   "execution_count": 17,
   "id": "7983b851",
   "metadata": {},
   "outputs": [],
   "source": [
    "def func(a,b):\n",
    "    try:\n",
    "        c=a/b\n",
    "    except ZeroDivisionError:\n",
    "        print(\"Handling Exception\")\n",
    "    else:\n",
    "        print(c)"
   ]
  },
  {
   "cell_type": "code",
   "execution_count": 18,
   "id": "5660f952",
   "metadata": {},
   "outputs": [
    {
     "name": "stdout",
     "output_type": "stream",
     "text": [
      "Handling Exception\n"
     ]
    }
   ],
   "source": [
    "func(12,0)"
   ]
  },
  {
   "cell_type": "code",
   "execution_count": 19,
   "id": "0f2131af",
   "metadata": {},
   "outputs": [
    {
     "name": "stdout",
     "output_type": "stream",
     "text": [
      "Handling Exception\n"
     ]
    }
   ],
   "source": [
    "func(22,0)"
   ]
  },
  {
   "cell_type": "code",
   "execution_count": 2,
   "id": "3384af6d",
   "metadata": {},
   "outputs": [],
   "source": [
    "def gen(s,t):\n",
    "    try:\n",
    "        c=s/t\n",
    "    except ZeroDivisionError:\n",
    "        print(\"Handling Exception\")\n",
    "    else:\n",
    "        print(c)\n",
    "    "
   ]
  },
  {
   "cell_type": "code",
   "execution_count": 3,
   "id": "e730daf1",
   "metadata": {},
   "outputs": [
    {
     "name": "stdout",
     "output_type": "stream",
     "text": [
      "5.75\n"
     ]
    }
   ],
   "source": [
    "gen(23,4)"
   ]
  },
  {
   "cell_type": "code",
   "execution_count": 5,
   "id": "932da071",
   "metadata": {},
   "outputs": [
    {
     "name": "stdout",
     "output_type": "stream",
     "text": [
      "Handling Exception\n"
     ]
    }
   ],
   "source": [
    "gen(5,0)"
   ]
  },
  {
   "cell_type": "code",
   "execution_count": 11,
   "id": "e8fb996a",
   "metadata": {},
   "outputs": [],
   "source": [
    "def hello():\n",
    "    try:\n",
    "        y=int(input('Enter the value'))\n",
    "    except ValueError:\n",
    "        print('Exception handling')\n",
    "    else:\n",
    "        print(y)\n",
    "        "
   ]
  },
  {
   "cell_type": "code",
   "execution_count": 12,
   "id": "90109a26",
   "metadata": {},
   "outputs": [
    {
     "name": "stdout",
     "output_type": "stream",
     "text": [
      "Enter the value34\n",
      "34\n"
     ]
    }
   ],
   "source": [
    "hello()"
   ]
  },
  {
   "cell_type": "code",
   "execution_count": 13,
   "id": "8f301b76",
   "metadata": {},
   "outputs": [
    {
     "name": "stdout",
     "output_type": "stream",
     "text": [
      "Enter the valuewr\n",
      "Exception handling\n"
     ]
    }
   ],
   "source": [
    "hello()"
   ]
  },
  {
   "cell_type": "code",
   "execution_count": 1,
   "id": "cb4a296a",
   "metadata": {},
   "outputs": [],
   "source": [
    "def mult(a,b):\n",
    "    try:\n",
    "        c=a/b\n",
    "    except ZerodivisionError:\n",
    "        print('Handling exception')\n",
    "    else:\n",
    "        print(c)"
   ]
  },
  {
   "cell_type": "code",
   "execution_count": 3,
   "id": "30b4168b",
   "metadata": {},
   "outputs": [
    {
     "ename": "NameError",
     "evalue": "name 'ZerodivisionError' is not defined",
     "output_type": "error",
     "traceback": [
      "\u001b[1;31m---------------------------------------------------------------------------\u001b[0m",
      "\u001b[1;31mZeroDivisionError\u001b[0m                         Traceback (most recent call last)",
      "\u001b[1;32m<ipython-input-1-8e792e507f0b>\u001b[0m in \u001b[0;36mmult\u001b[1;34m(a, b)\u001b[0m\n\u001b[0;32m      2\u001b[0m     \u001b[1;32mtry\u001b[0m\u001b[1;33m:\u001b[0m\u001b[1;33m\u001b[0m\u001b[1;33m\u001b[0m\u001b[0m\n\u001b[1;32m----> 3\u001b[1;33m         \u001b[0mc\u001b[0m\u001b[1;33m=\u001b[0m\u001b[0ma\u001b[0m\u001b[1;33m/\u001b[0m\u001b[0mb\u001b[0m\u001b[1;33m\u001b[0m\u001b[1;33m\u001b[0m\u001b[0m\n\u001b[0m\u001b[0;32m      4\u001b[0m     \u001b[1;32mexcept\u001b[0m \u001b[0mZerodivisionError\u001b[0m\u001b[1;33m:\u001b[0m\u001b[1;33m\u001b[0m\u001b[1;33m\u001b[0m\u001b[0m\n",
      "\u001b[1;31mZeroDivisionError\u001b[0m: division by zero",
      "\nDuring handling of the above exception, another exception occurred:\n",
      "\u001b[1;31mNameError\u001b[0m                                 Traceback (most recent call last)",
      "\u001b[1;32m<ipython-input-3-86b8155a0294>\u001b[0m in \u001b[0;36m<module>\u001b[1;34m\u001b[0m\n\u001b[1;32m----> 1\u001b[1;33m \u001b[0mmult\u001b[0m\u001b[1;33m(\u001b[0m\u001b[1;36m3\u001b[0m\u001b[1;33m,\u001b[0m\u001b[1;36m0\u001b[0m\u001b[1;33m)\u001b[0m\u001b[1;33m\u001b[0m\u001b[1;33m\u001b[0m\u001b[0m\n\u001b[0m",
      "\u001b[1;32m<ipython-input-1-8e792e507f0b>\u001b[0m in \u001b[0;36mmult\u001b[1;34m(a, b)\u001b[0m\n\u001b[0;32m      2\u001b[0m     \u001b[1;32mtry\u001b[0m\u001b[1;33m:\u001b[0m\u001b[1;33m\u001b[0m\u001b[1;33m\u001b[0m\u001b[0m\n\u001b[0;32m      3\u001b[0m         \u001b[0mc\u001b[0m\u001b[1;33m=\u001b[0m\u001b[0ma\u001b[0m\u001b[1;33m/\u001b[0m\u001b[0mb\u001b[0m\u001b[1;33m\u001b[0m\u001b[1;33m\u001b[0m\u001b[0m\n\u001b[1;32m----> 4\u001b[1;33m     \u001b[1;32mexcept\u001b[0m \u001b[0mZerodivisionError\u001b[0m\u001b[1;33m:\u001b[0m\u001b[1;33m\u001b[0m\u001b[1;33m\u001b[0m\u001b[0m\n\u001b[0m\u001b[0;32m      5\u001b[0m         \u001b[0mprint\u001b[0m\u001b[1;33m(\u001b[0m\u001b[1;34m'Handling exception'\u001b[0m\u001b[1;33m)\u001b[0m\u001b[1;33m\u001b[0m\u001b[1;33m\u001b[0m\u001b[0m\n\u001b[0;32m      6\u001b[0m     \u001b[1;32melse\u001b[0m\u001b[1;33m:\u001b[0m\u001b[1;33m\u001b[0m\u001b[1;33m\u001b[0m\u001b[0m\n",
      "\u001b[1;31mNameError\u001b[0m: name 'ZerodivisionError' is not defined"
     ]
    }
   ],
   "source": [
    "mult(3,0)"
   ]
  },
  {
   "cell_type": "code",
   "execution_count": null,
   "id": "587f986d",
   "metadata": {},
   "outputs": [],
   "source": []
  }
 ],
 "metadata": {
  "kernelspec": {
   "display_name": "Python 3",
   "language": "python",
   "name": "python3"
  },
  "language_info": {
   "codemirror_mode": {
    "name": "ipython",
    "version": 3
   },
   "file_extension": ".py",
   "mimetype": "text/x-python",
   "name": "python",
   "nbconvert_exporter": "python",
   "pygments_lexer": "ipython3",
   "version": "3.8.8"
  }
 },
 "nbformat": 4,
 "nbformat_minor": 5
}
