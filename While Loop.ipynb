{
 "cells": [
  {
   "cell_type": "code",
   "execution_count": 1,
   "id": "b56ce78f",
   "metadata": {},
   "outputs": [
    {
     "name": "stdout",
     "output_type": "stream",
     "text": [
      "0\n",
      "1\n",
      "2\n",
      "3\n",
      "4\n"
     ]
    }
   ],
   "source": [
    "i=0\n",
    "while i<5:\n",
    "    print(i)\n",
    "    i=i+1"
   ]
  },
  {
   "cell_type": "code",
   "execution_count": 3,
   "id": "6802057a",
   "metadata": {},
   "outputs": [
    {
     "name": "stdout",
     "output_type": "stream",
     "text": [
      "4\n",
      "5.3\n",
      "6.6\n",
      "7.8999999999999995\n"
     ]
    }
   ],
   "source": [
    "k=4\n",
    "while (k<8):\n",
    "    print(k)\n",
    "    k=k+1.3"
   ]
  },
  {
   "cell_type": "code",
   "execution_count": 2,
   "id": "396bf8b8",
   "metadata": {},
   "outputs": [
    {
     "name": "stdout",
     "output_type": "stream",
     "text": [
      "2\n",
      "9\n",
      "16\n",
      "23\n",
      "30\n",
      "37\n",
      "44\n"
     ]
    }
   ],
   "source": [
    "l=2\n",
    "while l<45:\n",
    "    print(l)\n",
    "    l=l+7"
   ]
  },
  {
   "cell_type": "code",
   "execution_count": 1,
   "id": "66760dcc",
   "metadata": {},
   "outputs": [
    {
     "name": "stdout",
     "output_type": "stream",
     "text": [
      "8\n",
      "24\n",
      "72\n"
     ]
    }
   ],
   "source": [
    "p=8\n",
    "while p<=100:\n",
    "    print(p)\n",
    "    p=p*3"
   ]
  },
  {
   "cell_type": "code",
   "execution_count": null,
   "id": "38c3679d",
   "metadata": {},
   "outputs": [],
   "source": []
  }
 ],
 "metadata": {
  "kernelspec": {
   "display_name": "Python 3",
   "language": "python",
   "name": "python3"
  },
  "language_info": {
   "codemirror_mode": {
    "name": "ipython",
    "version": 3
   },
   "file_extension": ".py",
   "mimetype": "text/x-python",
   "name": "python",
   "nbconvert_exporter": "python",
   "pygments_lexer": "ipython3",
   "version": "3.8.8"
  }
 },
 "nbformat": 4,
 "nbformat_minor": 5
}
