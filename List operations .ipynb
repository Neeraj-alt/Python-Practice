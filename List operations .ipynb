{
 "cells": [
  {
   "cell_type": "code",
   "execution_count": 1,
   "id": "b54d6237",
   "metadata": {},
   "outputs": [],
   "source": [
    "list=[12,23,56,86]\n"
   ]
  },
  {
   "cell_type": "code",
   "execution_count": 7,
   "id": "d95d01f5",
   "metadata": {},
   "outputs": [
    {
     "name": "stdout",
     "output_type": "stream",
     "text": [
      "[12, 23, 455, 86]\n"
     ]
    }
   ],
   "source": [
    "list[2]=455\n",
    "print(list)"
   ]
  },
  {
   "cell_type": "code",
   "execution_count": 8,
   "id": "bab97559",
   "metadata": {},
   "outputs": [],
   "source": [
    "list.append(67)"
   ]
  },
  {
   "cell_type": "code",
   "execution_count": 9,
   "id": "9385d881",
   "metadata": {},
   "outputs": [
    {
     "data": {
      "text/plain": [
       "[12, 23, 455, 86, 67]"
      ]
     },
     "execution_count": 9,
     "metadata": {},
     "output_type": "execute_result"
    }
   ],
   "source": [
    "list"
   ]
  },
  {
   "cell_type": "code",
   "execution_count": 10,
   "id": "d68f3aaa",
   "metadata": {},
   "outputs": [],
   "source": [
    "list.insert(2,34)"
   ]
  },
  {
   "cell_type": "code",
   "execution_count": 11,
   "id": "78f8c9d7",
   "metadata": {},
   "outputs": [
    {
     "data": {
      "text/plain": [
       "[12, 23, 34, 455, 86, 67]"
      ]
     },
     "execution_count": 11,
     "metadata": {},
     "output_type": "execute_result"
    }
   ],
   "source": [
    "list"
   ]
  },
  {
   "cell_type": "code",
   "execution_count": 12,
   "id": "658d7a57",
   "metadata": {},
   "outputs": [],
   "source": [
    "knowledge=(34,45,78,123)"
   ]
  },
  {
   "cell_type": "code",
   "execution_count": 13,
   "id": "8caeb8ca",
   "metadata": {},
   "outputs": [],
   "source": [
    "list.extend(knowledge)"
   ]
  },
  {
   "cell_type": "code",
   "execution_count": 14,
   "id": "e6c1e8a5",
   "metadata": {},
   "outputs": [
    {
     "data": {
      "text/plain": [
       "[12, 23, 34, 455, 86, 67, 34, 45, 78, 123]"
      ]
     },
     "execution_count": 14,
     "metadata": {},
     "output_type": "execute_result"
    }
   ],
   "source": [
    "list"
   ]
  },
  {
   "cell_type": "code",
   "execution_count": 7,
   "id": "42a93b53",
   "metadata": {},
   "outputs": [],
   "source": [
    "list1=[12,45,89,90]"
   ]
  },
  {
   "cell_type": "code",
   "execution_count": 8,
   "id": "c24c2065",
   "metadata": {},
   "outputs": [],
   "source": [
    "list2=[65,87,23,54]"
   ]
  },
  {
   "cell_type": "code",
   "execution_count": 10,
   "id": "ccee6ca8",
   "metadata": {},
   "outputs": [
    {
     "ename": "KeyboardInterrupt",
     "evalue": "",
     "output_type": "error",
     "traceback": [
      "\u001b[1;31m---------------------------------------------------------------------------\u001b[0m",
      "\u001b[1;31mKeyboardInterrupt\u001b[0m                         Traceback (most recent call last)",
      "\u001b[1;32m<ipython-input-10-91f96cf3c66e>\u001b[0m in \u001b[0;36m<module>\u001b[1;34m\u001b[0m\n\u001b[0;32m      1\u001b[0m \u001b[1;32mfor\u001b[0m \u001b[0mx\u001b[0m \u001b[1;32min\u001b[0m \u001b[0mlist1\u001b[0m\u001b[1;33m:\u001b[0m\u001b[1;33m\u001b[0m\u001b[1;33m\u001b[0m\u001b[0m\n\u001b[1;32m----> 2\u001b[1;33m     \u001b[0mlist1\u001b[0m\u001b[1;33m.\u001b[0m\u001b[0mappend\u001b[0m\u001b[1;33m(\u001b[0m\u001b[0mx\u001b[0m\u001b[1;33m)\u001b[0m\u001b[1;33m\u001b[0m\u001b[1;33m\u001b[0m\u001b[0m\n\u001b[0m",
      "\u001b[1;31mKeyboardInterrupt\u001b[0m: "
     ]
    }
   ],
   "source": []
  },
  {
   "cell_type": "code",
   "execution_count": null,
   "id": "75a2d0ab",
   "metadata": {},
   "outputs": [],
   "source": [
    "x=(25,30)"
   ]
  },
  {
   "cell_type": "code",
   "execution_count": null,
   "id": "e1e5c974",
   "metadata": {},
   "outputs": [],
   "source": [
    "b=list(x)"
   ]
  },
  {
   "cell_type": "code",
   "execution_count": null,
   "id": "c22429a3",
   "metadata": {},
   "outputs": [],
   "source": [
    "print(b)"
   ]
  },
  {
   "cell_type": "code",
   "execution_count": null,
   "id": "5af47665",
   "metadata": {},
   "outputs": [],
   "source": [
    "list(x)"
   ]
  },
  {
   "cell_type": "code",
   "execution_count": null,
   "id": "2d34f1a2",
   "metadata": {},
   "outputs": [],
   "source": [
    "print (list)"
   ]
  },
  {
   "cell_type": "code",
   "execution_count": null,
   "id": "4ac3c485",
   "metadata": {},
   "outputs": [],
   "source": [
    "y=(67,87)"
   ]
  },
  {
   "cell_type": "code",
   "execution_count": null,
   "id": "e7d0c7ea",
   "metadata": {},
   "outputs": [],
   "source": [
    "print([y])"
   ]
  },
  {
   "cell_type": "code",
   "execution_count": 1,
   "id": "c0f4c455",
   "metadata": {},
   "outputs": [],
   "source": [
    "list=[12,23,34,45,56,67]"
   ]
  },
  {
   "cell_type": "code",
   "execution_count": 2,
   "id": "7ac85021",
   "metadata": {},
   "outputs": [
    {
     "data": {
      "text/plain": [
       "45"
      ]
     },
     "execution_count": 2,
     "metadata": {},
     "output_type": "execute_result"
    }
   ],
   "source": [
    "list.pop(3)"
   ]
  },
  {
   "cell_type": "code",
   "execution_count": 3,
   "id": "ae36e424",
   "metadata": {},
   "outputs": [
    {
     "data": {
      "text/plain": [
       "[12, 23, 34, 56, 67]"
      ]
     },
     "execution_count": 3,
     "metadata": {},
     "output_type": "execute_result"
    }
   ],
   "source": [
    "list"
   ]
  },
  {
   "cell_type": "code",
   "execution_count": 4,
   "id": "ea3c9317",
   "metadata": {},
   "outputs": [],
   "source": [
    "list.append(45)"
   ]
  },
  {
   "cell_type": "code",
   "execution_count": 5,
   "id": "b0292867",
   "metadata": {},
   "outputs": [
    {
     "data": {
      "text/plain": [
       "[12, 23, 34, 56, 67, 45]"
      ]
     },
     "execution_count": 5,
     "metadata": {},
     "output_type": "execute_result"
    }
   ],
   "source": [
    "list"
   ]
  },
  {
   "cell_type": "code",
   "execution_count": null,
   "id": "b34df11a",
   "metadata": {},
   "outputs": [],
   "source": [
    "for x in list:\n",
    "    list."
   ]
  }
 ],
 "metadata": {
  "kernelspec": {
   "display_name": "Python 3",
   "language": "python",
   "name": "python3"
  },
  "language_info": {
   "codemirror_mode": {
    "name": "ipython",
    "version": 3
   },
   "file_extension": ".py",
   "mimetype": "text/x-python",
   "name": "python",
   "nbconvert_exporter": "python",
   "pygments_lexer": "ipython3",
   "version": "3.8.8"
  }
 },
 "nbformat": 4,
 "nbformat_minor": 5
}
